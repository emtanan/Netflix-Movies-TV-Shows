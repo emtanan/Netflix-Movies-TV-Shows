{
  "nbformat": 4,
  "nbformat_minor": 0,
  "metadata": {
    "colab": {
      "provenance": []
    },
    "kernelspec": {
      "name": "python3",
      "display_name": "Python 3"
    },
    "language_info": {
      "name": "python"
    }
  },
  "cells": [
    {
      "cell_type": "code",
      "metadata": {
        "colab": {
          "base_uri": "https://localhost:8080/"
        },
        "id": "a34a7240",
        "outputId": "7bbfbfea-29f6-45bb-c278-308611fc71a2"
      },
      "source": [
        "import pandas as pd\n",
        "\n",
        "# Define the file path\n",
        "file_path = 'netflix_titles.csv'\n",
        "\n",
        "df = pd.read_csv(file_path)\n",
        "print(\"First 5 records:\", df.head())"
      ],
      "execution_count": 1,
      "outputs": [
        {
          "output_type": "stream",
          "name": "stdout",
          "text": [
            "First 5 records:   show_id     type                  title         director  \\\n",
            "0      s1    Movie   Dick Johnson Is Dead  Kirsten Johnson   \n",
            "1      s2  TV Show          Blood & Water              NaN   \n",
            "2      s3  TV Show              Ganglands  Julien Leclercq   \n",
            "3      s4  TV Show  Jailbirds New Orleans              NaN   \n",
            "4      s5  TV Show           Kota Factory              NaN   \n",
            "\n",
            "                                                cast        country  \\\n",
            "0                                                NaN  United States   \n",
            "1  Ama Qamata, Khosi Ngema, Gail Mabalane, Thaban...   South Africa   \n",
            "2  Sami Bouajila, Tracy Gotoas, Samuel Jouy, Nabi...            NaN   \n",
            "3                                                NaN            NaN   \n",
            "4  Mayur More, Jitendra Kumar, Ranjan Raj, Alam K...          India   \n",
            "\n",
            "           date_added  release_year rating   duration  \\\n",
            "0  September 25, 2021          2020  PG-13     90 min   \n",
            "1  September 24, 2021          2021  TV-MA  2 Seasons   \n",
            "2  September 24, 2021          2021  TV-MA   1 Season   \n",
            "3  September 24, 2021          2021  TV-MA   1 Season   \n",
            "4  September 24, 2021          2021  TV-MA  2 Seasons   \n",
            "\n",
            "                                           listed_in  \\\n",
            "0                                      Documentaries   \n",
            "1    International TV Shows, TV Dramas, TV Mysteries   \n",
            "2  Crime TV Shows, International TV Shows, TV Act...   \n",
            "3                             Docuseries, Reality TV   \n",
            "4  International TV Shows, Romantic TV Shows, TV ...   \n",
            "\n",
            "                                         description  \n",
            "0  As her father nears the end of his life, filmm...  \n",
            "1  After crossing paths at a party, a Cape Town t...  \n",
            "2  To protect his family from a powerful drug lor...  \n",
            "3  Feuds, flirtations and toilet talk go down amo...  \n",
            "4  In a city of coaching centers known to train I...  \n"
          ]
        }
      ]
    },
    {
      "cell_type": "code",
      "metadata": {
        "colab": {
          "base_uri": "https://localhost:8080/"
        },
        "id": "e03b646c",
        "outputId": "fce9d091-6568-4bc2-b21f-0b3722806c46"
      },
      "source": [
        "import os\n",
        "\n",
        "# Define the path to the directory you want to list\n",
        "# '.' refers to the current directory\n",
        "path = '.'\n",
        "\n",
        "print(os.listdir(path))"
      ],
      "execution_count": 2,
      "outputs": [
        {
          "output_type": "stream",
          "name": "stdout",
          "text": [
            "['.config', 'netflix_titles.csv', 'sample_data']\n"
          ]
        }
      ]
    },
    {
      "cell_type": "code",
      "source": [
        "import pandas as pd\n",
        "import numpy as np\n",
        "import matplotlib.pyplot as plt\n",
        "from matplotlib.backends.backend_pdf import PdfPages\n",
        "\n",
        "def load_data(df):\n",
        "    if 'type' not in df.columns:\n",
        "        raise ValueError('CSV must contain a \"type\" column (Movie / TV Show)')\n",
        "    for c in ['date_added','release_year','country','listed_in','duration','rating']:\n",
        "        if c not in df.columns:\n",
        "            df[c] = None\n",
        "    df['primary_genre'] = df['listed_in'].fillna('').apply(lambda s: s.split(',')[0] if s else 'Unknown')\n",
        "    def minutes_from_duration(x):\n",
        "        try:\n",
        "            if isinstance(x, str) and 'min' in x:\n",
        "                return int(x.split()[0])\n",
        "            else:\n",
        "                return np.nan\n",
        "        except:\n",
        "            return np.nan\n",
        "    df['minutes'] = df['duration'].apply(minutes_from_duration)\n",
        "    return df\n",
        "\n",
        "def create_pdf(df, out_pdf='netflix_eda_real.pdf'):\n",
        "    type_counts = df['type'].value_counts()\n",
        "    top_countries = df['country'].value_counts().head(8)\n",
        "    year_counts = df['release_year'].value_counts().sort_index()\n",
        "    top_genres = df['primary_genre'].value_counts().head(8)\n",
        "    rating_counts = df['rating'].value_counts()\n",
        "\n",
        "    with PdfPages(out_pdf) as pp:\n",
        "        fig, axes = plt.subplots(3,1, figsize=(8.27,11.69))\n",
        "        fig.suptitle(\"Netflix Movies & TV Shows — Exploratory Data Analysis (REAL DATA)\", fontsize=14, y=0.95)\n",
        "        axes[0].bar(type_counts.index, type_counts.values); axes[0].set_title(\"Content Type Distribution\"); axes[0].set_ylabel(\"Count\")\n",
        "        axes[1].barh(top_genres.index[::-1], top_genres.values[::-1]); axes[1].set_title(\"Top Primary Genres\"); axes[1].set_xlabel(\"Count\")\n",
        "        years_sorted = np.sort(year_counts.index); year_series = year_counts.reindex(years_sorted, fill_value=0)\n",
        "        year_smoothed = year_series.rolling(window=3, center=True, min_periods=1).mean()\n",
        "        axes[2].plot(years_sorted, year_smoothed); axes[2].set_title(\"Releases by Year (3-year rolling mean)\"); axes[2].set_xlabel(\"Year\"); axes[2].set_xlim(1980, 2025)\n",
        "        plt.tight_layout(rect=[0, 0, 1, 0.93]); pp.savefig(fig); plt.close(fig)\n",
        "        fig2, axes = plt.subplots(3,1, figsize=(8.27,11.69))\n",
        "        fig2.suptitle(\"Further Insights - Countries, Duration & Ratings\", fontsize=14, y=0.95)\n",
        "        axes[0].bar(top_countries.index, top_countries.values); axes[0].set_title(\"Top Producing Countries\"); axes[0].set_ylabel(\"Count\"); axes[0].tick_params(axis='x', rotation=45)\n",
        "        axes[1].hist(df['minutes'].dropna(), bins=20); axes[1].set_title(\"Movie Duration Distribution (minutes)\"); axes[1].set_xlabel(\"Minutes\")\n",
        "        axes[2].bar(rating_counts.index, rating_counts.values); axes[2].set_title(\"Content Ratings Distribution\"); axes[2].set_ylabel(\"Count\")\n",
        "        plt.tight_layout(rect=[0, 0, 1, 0.93]); pp.savefig(fig2); plt.close(fig2)\n",
        "    print('PDF saved to: {}'.format(out_pdf))\n",
        "\n",
        "processed_df = load_data(df.copy())\n",
        "create_pdf(processed_df)"
      ],
      "metadata": {
        "colab": {
          "base_uri": "https://localhost:8080/"
        },
        "id": "p8_QbuUc5rcJ",
        "outputId": "dd85d6d9-b55b-432f-aaa7-bcbcdab09293"
      },
      "execution_count": 3,
      "outputs": [
        {
          "output_type": "stream",
          "name": "stdout",
          "text": [
            "PDF saved to: netflix_eda_real.pdf\n"
          ]
        }
      ]
    }
  ]
}